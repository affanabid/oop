{
 "cells": [
  {
   "cell_type": "markdown",
   "metadata": {},
   "source": [
    "# Poisson Distribtuion\n",
    "\n",
    "**Example: Changes in airport procedures require considerable planning. Arrival rates of aircraft are important factors that must be taken into account. Suppose small aircraft arrive at a certain airport, according to a Poisson process, at the rate of 6 per hour. Thus the Poisson parameter for arrivals for a period of hours is λ= 6.**\n",
    "\n",
    "\n",
    "\n",
    "\n",
    "\n"
   ]
  },
  {
   "cell_type": "markdown",
   "metadata": {},
   "source": [
    "** (a) What is the probability that exactly 4 small aircraft  arrive during a 1-hour period?**"
   ]
  },
  {
   "cell_type": "code",
   "execution_count": 1,
   "metadata": {},
   "outputs": [
    {
     "ename": "ModuleNotFoundError",
     "evalue": "No module named 'scipy'",
     "output_type": "error",
     "traceback": [
      "\u001b[1;31m---------------------------------------------------------------------------\u001b[0m",
      "\u001b[1;31mModuleNotFoundError\u001b[0m                       Traceback (most recent call last)",
      "\u001b[1;32mc:\\Users\\acer\\Desktop\\PUCIT\\oop\\prob\\Tutorial3_PoissonDist_GeometricDist.ipynb Cell 3\u001b[0m line \u001b[0;36m1\n\u001b[1;32m----> <a href='vscode-notebook-cell:/c%3A/Users/acer/Desktop/PUCIT/oop/prob/Tutorial3_PoissonDist_GeometricDist.ipynb#W2sZmlsZQ%3D%3D?line=0'>1</a>\u001b[0m \u001b[39mfrom\u001b[39;00m \u001b[39mscipy\u001b[39;00m\u001b[39m.\u001b[39;00m\u001b[39mstats\u001b[39;00m \u001b[39mimport\u001b[39;00m  poisson\n\u001b[0;32m      <a href='vscode-notebook-cell:/c%3A/Users/acer/Desktop/PUCIT/oop/prob/Tutorial3_PoissonDist_GeometricDist.ipynb#W2sZmlsZQ%3D%3D?line=1'>2</a>\u001b[0m mu \u001b[39m=\u001b[39m \u001b[39m6\u001b[39m                                   \u001b[39m# Aveage number of aircrafts arrive per hour       \u001b[39;00m\n\u001b[0;32m      <a href='vscode-notebook-cell:/c%3A/Users/acer/Desktop/PUCIT/oop/prob/Tutorial3_PoissonDist_GeometricDist.ipynb#W2sZmlsZQ%3D%3D?line=2'>3</a>\u001b[0m x \u001b[39m=\u001b[39m \u001b[39m4\u001b[39m                                    \u001b[39m# Let x deontes number of aircrafts arrive during a 1-hour period\u001b[39;00m\n",
      "\u001b[1;31mModuleNotFoundError\u001b[0m: No module named 'scipy'"
     ]
    }
   ],
   "source": [
    "from scipy.stats import  poisson\n",
    "mu = 6                                   # Aveage number of aircrafts arrive per hour       \n",
    "x = 4                                    # Let x deontes number of aircrafts arrive during a 1-hour period\n",
    "prob = round(poisson.pmf(x, mu), 4)      # Compute probabilites corresponding to random variable x\n",
    "print('Probability that exactly 4 small aircraft arrive during a 1-hour periods :', prob)\n"
   ]
  },
  {
   "cell_type": "markdown",
   "metadata": {},
   "source": [
    "(b) What is the probability that at least 4 arrive during a  1-hour period?"
   ]
  },
  {
   "cell_type": "code",
   "execution_count": 2,
   "metadata": {},
   "outputs": [
    {
     "name": "stdout",
     "output_type": "stream",
     "text": [
      "Probability that at least 4 arrive during a1-hour period: 0.8488\n"
     ]
    }
   ],
   "source": [
    "x = [0, 1, 2, 3]                                    # Let x deontes number of aircrafts arrive during a 1-hour period\n",
    "prob = 1 - round(sum(poisson.pmf(x, mu)), 4)         # Compute probabilites corresponding to random variable x\n",
    "print('Probability that at least 4 arrive during a1-hour period:', prob)\n"
   ]
  },
  {
   "cell_type": "markdown",
   "metadata": {},
   "source": [
    "(c) If we define a working day as 12 hours, what is the probability that at least 75 small aircraft arrive during a day?"
   ]
  },
  {
   "cell_type": "code",
   "execution_count": 2,
   "metadata": {},
   "outputs": [
    {
     "ename": "NameError",
     "evalue": "name 'poisson' is not defined",
     "output_type": "error",
     "traceback": [
      "\u001b[1;31m---------------------------------------------------------------------------\u001b[0m",
      "\u001b[1;31mNameError\u001b[0m                                 Traceback (most recent call last)",
      "\u001b[1;32mc:\\Users\\acer\\Desktop\\PUCIT\\oop\\prob\\Tutorial3_PoissonDist_GeometricDist.ipynb Cell 7\u001b[0m line \u001b[0;36m5\n\u001b[0;32m      <a href='vscode-notebook-cell:/c%3A/Users/acer/Desktop/PUCIT/oop/prob/Tutorial3_PoissonDist_GeometricDist.ipynb#W6sZmlsZQ%3D%3D?line=2'>3</a>\u001b[0m x \u001b[39m=\u001b[39m \u001b[39mlist\u001b[39m(\u001b[39mrange\u001b[39m(\u001b[39m0\u001b[39m, \u001b[39m75\u001b[39m))\n\u001b[0;32m      <a href='vscode-notebook-cell:/c%3A/Users/acer/Desktop/PUCIT/oop/prob/Tutorial3_PoissonDist_GeometricDist.ipynb#W6sZmlsZQ%3D%3D?line=3'>4</a>\u001b[0m \u001b[39m#print(x)                                            # debugging\u001b[39;00m\n\u001b[1;32m----> <a href='vscode-notebook-cell:/c%3A/Users/acer/Desktop/PUCIT/oop/prob/Tutorial3_PoissonDist_GeometricDist.ipynb#W6sZmlsZQ%3D%3D?line=4'>5</a>\u001b[0m prob \u001b[39m=\u001b[39m\u001b[39m1\u001b[39m \u001b[39m-\u001b[39m \u001b[39mround\u001b[39m(\u001b[39msum\u001b[39m(poisson\u001b[39m.\u001b[39mpmf(x, mu)), \u001b[39m4\u001b[39m)\n\u001b[0;32m      <a href='vscode-notebook-cell:/c%3A/Users/acer/Desktop/PUCIT/oop/prob/Tutorial3_PoissonDist_GeometricDist.ipynb#W6sZmlsZQ%3D%3D?line=5'>6</a>\u001b[0m \u001b[39mprint\u001b[39m(\u001b[39m'\u001b[39m\u001b[39mProbability that at least 75 small aircraft arrive during a day:\u001b[39m\u001b[39m'\u001b[39m, prob)\n",
      "\u001b[1;31mNameError\u001b[0m: name 'poisson' is not defined"
     ]
    }
   ],
   "source": [
    "mu =  12 * 6\n",
    "#x = range(0, 75)                                    # Let x deontes number of aircrafts arrive during a 1-hour period\n",
    "x = list(range(0, 75))\n",
    "#print(x)                                            # debugging\n",
    "prob =1 - round(sum(poisson.pmf(x, mu)), 4)\n",
    "print('Probability that at least 75 small aircraft arrive during a day:', prob)"
   ]
  },
  {
   "cell_type": "markdown",
   "metadata": {
    "collapsed": true
   },
   "source": [
    "# Geometric Distribution"
   ]
  },
  {
   "cell_type": "markdown",
   "metadata": {
    "collapsed": true
   },
   "source": [
    "Example: In a certain manufacturing process it is known that, on the average, 1 in every 100, items is defective. What is the probability that the fifth item inspected is the first defective item found?\n"
   ]
  },
  {
   "cell_type": "code",
   "execution_count": 3,
   "metadata": {},
   "outputs": [
    {
     "name": "stdout",
     "output_type": "stream",
     "text": [
      "The probability that the fifth item inspected is the first defective item found : 0.0096\n"
     ]
    }
   ],
   "source": [
    "from scipy.stats import  geom\n",
    "p = 1/100                               # Probability of defective       \n",
    "x = 5                                  # Let x deontes number of attempts to detect first defective item\n",
    "prob = round(geom.pmf(x, p), 4)      # Compute probabilites corresponding to random variable x\n",
    "print('The probability that the fifth item inspected is the first defective item found :', prob)\n"
   ]
  },
  {
   "cell_type": "markdown",
   "metadata": {},
   "source": [
    "Example: At “busy time” a telephone exchange is very near capacity, so callers have difficulty placing their calls. It may be of interest to know the number of attempts necessary in order to gain a connection. Suppose that we let p = 0.05 be the probability of a connection during busy time. We are interested in knowing the probability that 5 attempts are necessary for a successful call.\n"
   ]
  },
  {
   "cell_type": "code",
   "execution_count": 5,
   "metadata": {},
   "outputs": [
    {
     "name": "stdout",
     "output_type": "stream",
     "text": [
      "The probability that 5 attempts are necessary for a successful call : 0.0407\n"
     ]
    }
   ],
   "source": [
    "\n",
    "p = 0.05                               # probability of a connection during busy time       \n",
    "x = 5                                  # Let x deontes number of attempts for  first conncection\n",
    "prob = round(geom.pmf(x, p), 4)        # Compute probabilites corresponding to random variable x\n",
    "print('The probability that 5 attempts are necessary for a successful call :', prob)"
   ]
  },
  {
   "cell_type": "code",
   "execution_count": null,
   "metadata": {
    "collapsed": true
   },
   "outputs": [],
   "source": []
  }
 ],
 "metadata": {
  "kernelspec": {
   "display_name": "Python 3 (ipykernel)",
   "language": "python",
   "name": "python3"
  },
  "language_info": {
   "codemirror_mode": {
    "name": "ipython",
    "version": 3
   },
   "file_extension": ".py",
   "mimetype": "text/x-python",
   "name": "python",
   "nbconvert_exporter": "python",
   "pygments_lexer": "ipython3",
   "version": "3.11.3"
  }
 },
 "nbformat": 4,
 "nbformat_minor": 2
}
